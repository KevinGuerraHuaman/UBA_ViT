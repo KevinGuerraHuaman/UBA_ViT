{
 "cells": [
  {
   "cell_type": "markdown",
   "metadata": {},
   "source": [
    "# Ecosistema actual, Huggingface y modelos pre entrenados.\n",
    "\n",
    "---\n",
    "\n",
    "# Modelos:\n",
    "\n",
    "## 1. [Swin Transformer](https://huggingface.co/docs/transformers/model_doc/swin)\n",
    "- **Tipo:** Transformer jerárquico.\n",
    "- **Características:**\n",
    "  - Utiliza ventanas deslizantes (windowed attention) para atención local.\n",
    "  - Crea representaciones jerárquicas a partir de imágenes.\n",
    "  - Mejora la escalabilidad en procesamiento de imágenes de alta resolución.\n",
    "\n",
    "## 2. [Convolutional Vision Transformer (CvT)](https://huggingface.co/docs/transformers/model_doc/cvt)\n",
    "- **Tipo:** Híbrido CNN y Transformer.\n",
    "- **Características:**\n",
    "  - Aplica convoluciones iniciales para captura de características locales.\n",
    "  - Utiliza bloques de Transformer para modelar relaciones globales.\n",
    "  - Eficiente en tareas de visión con reducción de complejidad computacional.\n",
    "\n",
    "## 3. [MobileViT](https://huggingface.co/docs/transformers/model_doc/mobilevit)\n",
    "- **Tipo:** Arquitectura eficiente para dispositivos móviles.\n",
    "- **Características:**\n",
    "  - Integra convoluciones y Transformers de forma modular.\n",
    "  - Diseñada para balancear rendimiento y eficiencia en recursos limitados.\n",
    "  - Optimizada para aplicaciones en tiempo real.\n",
    "\n",
    "## 4. [Pyramid Vision Transformer](https://huggingface.co/docs/transformers/v4.45.2/en/model_doc/pvt#transformers.PvtForImageClassification)\n",
    "- **Tipo:** Transformer con enfoque en múltiples escalas.\n",
    "- **Características:**\n",
    "  - Implementa arquitectura en pirámide para procesamiento de imágenes.\n",
    "  - Captura información a diferentes resoluciones, mejorando la generalización.\n",
    "  - Eficaz en la detección de características tanto finas como gruesas.\n",
    "\n",
    "\n",
    "## 5. [Masked Autoencoder](https://huggingface.co/docs/transformers/v4.45.2/en/model_doc/vit_mae#vitmae)\n",
    "- **Tipo:** Autoencoder con enmascaramiento.\n",
    "- **Características:**\n",
    "  - Enmascara partes de la imagen durante el entrenamiento para aprendizaje de características.\n",
    "  - Similar al enmascaramiento en modelos de lenguaje como BERT.\n",
    "  - Facilita la transferencia de conocimiento para tareas de preentrenamiento y finetuning.\n",
    "\n",
    "---\n",
    "---\n",
    "\n",
    "# Guía para Trabajar con Modelos Preentrenados de Imágenes en Hugging Face con PyTorch\n",
    "\n",
    "\n",
    "\n",
    "## 1. Preprocesamiento de los Datos\n",
    "\n",
    "- **Redimensionamiento y normalización**: La clase `ImageProcessor` ajusta automáticamente la imagen a las dimensiones que el modelo necesita.\n",
    "\n",
    "    ```python\n",
    "    from transformers import AutoImageProcessor\n",
    "    processor = AutoImageProcessor.from_pretrained(\"google/vit-base-patch16-224\")\n",
    "    inputs = processor(images=image, return_tensors=\"pt\")\n",
    "    ```\n",
    "\n",
    "- **Augmentación de datos**: Puedes usar librerías como `torchvision` para agregar augmentación de datos y mejorar el rendimiento del modelo.\n",
    "\n",
    "    ```python\n",
    "    import torchvision.transforms as transforms\n",
    "    transform = transforms.Compose([\n",
    "        transforms.Resize((224, 224)),\n",
    "        transforms.RandomHorizontalFlip(),\n",
    "        transforms.ToTensor()\n",
    "    ])\n",
    "    ```\n",
    "---\n",
    "\n",
    "## 2. Trabajando con Modelos Preentrenados de Imágenes\n",
    "\n",
    "### Pasos para usar modelos preentrenados:\n",
    "\n",
    "1. **Instalación de librerías**: Hace falta tener instalada la librería `transformers` de Hugging Face, ya que ofrece acceso a modelos preentrenados y procesadores para el preprocesamiento de datos.\n",
    "\n",
    "2. **Cargar el modelo y el procesador**: Se utiliza `AutoImageProcessor` para cargar el procesador que realizará el preprocesamiento de las imágenes (ajustes de tamaño, normalización, etc.), y por ejemplo `AutoModelForImageClassification` para cargar el modelo de clasificación preentrenado.\n",
    "\n",
    "    ```python\n",
    "    from transformers import AutoImageProcessor, AutoModelForImageClassification\n",
    "    processor = AutoImageProcessor.from_pretrained(\"google/vit-base-patch16-224\")\n",
    "    model = AutoModelForImageClassification.from_pretrained(\"google/vit-base-patch16-224\")\n",
    "    ```\n",
    "\n",
    "3. **Preprocesar las imágenes**: Se utiliza el procesador para convertir la imagen en un formato adecuado (tensor), que luego puede ser alimentado al modelo.\n",
    "\n",
    "4. **Inferencia y uso de logits**: Los logits son los valores sin normalizar que el modelo genera para cada clase de salida. En una tarea de clasificación, estos logits indican qué tan seguro está el modelo de que una imagen pertenece a una clase específica. El índice del logit maximo corresponde a la clase predicha.\n",
    "\n",
    "    **Ejemplo de uso de logits**:\n",
    "    ```python\n",
    "    inputs = processor(images=image, return_tensors=\"pt\")  \n",
    "    outputs = model(**inputs)  \n",
    "    logits = outputs.logits\n",
    "    ```\n",
    "\n",
    "5. **Interpretar los logits**:  Para obtener la clase predicha, se toma el índice del logit más alto y se asocia con la etiqueta de la clase correspondiente.\n",
    "\n",
    "\n",
    "    ```python\n",
    "    predicted_class_idx = logits.argmax(-1).item()\n",
    "     print(f\"Predicción de clase: {model.config.id2label[predicted_class_idx]}\")\n",
    "    ```\n",
    "\n",
    "\n",
    "---\n",
    "\n",
    "## 3. Finetuning\n",
    "\n",
    "El **finetuning** ajusta un modelo preentrenado para tareas específicas utilizando un conjunto de datos más pequeño. Esto se logra actualizando los pesos de las últimas capas.\n",
    "\n",
    "### Pasos para realizar finetuning:\n",
    "\n",
    "\n",
    "```python\n",
    "from transformers import Trainer, TrainingArguments\n",
    "\n",
    "# Argumentos de entrenamiento\n",
    "training_args = TrainingArguments(\n",
    "    output_dir=\"results path\",\n",
    "    evaluation_strategy=\"epoch\",\n",
    "    per_device_train_batch_size=16,\n",
    "    per_device_eval_batch_size=16,\n",
    "    num_train_epochs=3,\n",
    "    save_strategy=\"epoch\",\n",
    "    logging_dir=\"login path\",\n",
    ")\n",
    "\n",
    "# Definir Trainer\n",
    "trainer = Trainer(\n",
    "    model=model,\n",
    "    args=training_args,\n",
    "    train_dataset=dataset_train,\n",
    "    eval_dataset=dataset_test,\n",
    "    tokenizer=processor\n",
    ")\n",
    "\n",
    "# Entrenamiento\n",
    "trainer.train()\n",
    "```\n",
    "\n",
    "---\n",
    "\n",
    "### Recursos:\n",
    "- [Documentación de Hugging Face Transformers](https://huggingface.co/docs/transformers/index)\n",
    "- [Procesamiento de Imágenes](https://huggingface.co/docs/transformers/main_classes/image_processor)\n",
    "- [Entrenamiento y Finetuning](https://huggingface.co/docs/transformers/training)\n",
    "- [Ejemplos](https://huggingface.co/docs/transformers/v4.45.2/en/notebooks)\n",
    "\n"
   ]
  },
  {
   "cell_type": "markdown",
   "metadata": {},
   "source": [
    "---\n",
    "---\n",
    "# Tarea: Fine-tuning de un modelo Vision Transformer\n",
    "\n",
    "1. **Objetivo**:\n",
    "   Seleccione un modelo preentrenado que utilice Vision Transformers (ViTs) y un conjunto de datos adecuado. Realice un proceso de fine-tuning del modelo seleccionado.\n",
    "\n",
    "   Pueden encontrar la documentacion de Transformers de Hugging Face en [Link](https://huggingface.co/docs/transformers/index)\n",
    "\n",
    "   Datasets de imágenes en Hugging Face [Link](https://huggingface.co/datasets?modality=modality:image&sort=downloads)\n",
    "\n",
    "   O pueden usar fuentes de preferencia.\n",
    "\n",
    "   \n",
    "2. **Una vez finalizado el fine-tuning**:\n",
    "   - Justifique la elección del modelo preentrenado y del dataset.\n",
    "   - Explique el proceso de fine-tuning realizado, especificando los parámetros ajustados y las modificaciones necesarias.\n",
    "   - Evalúe el rendimiento del modelo preentrenado sin ajustes y compárelo con los resultados obtenidos tras el fine-tuning, discutiendo las mejoras o diferencias observadas.\n",
    "---"
   ]
  },
  {
   "cell_type": "markdown",
   "metadata": {},
   "source": [
    "#### LIBRERIAS"
   ]
  },
  {
   "cell_type": "code",
   "execution_count": 1,
   "metadata": {},
   "outputs": [
    {
     "name": "stderr",
     "output_type": "stream",
     "text": [
      "c:\\Users\\PC-01\\Documents\\ENTORNOS_PYTHON\\venvi_pytorch118\\lib\\site-packages\\tqdm\\auto.py:21: TqdmWarning: IProgress not found. Please update jupyter and ipywidgets. See https://ipywidgets.readthedocs.io/en/stable/user_install.html\n",
      "  from .autonotebook import tqdm as notebook_tqdm\n"
     ]
    }
   ],
   "source": [
    "from transformers import MobileViTFeatureExtractor, MobileViTForImageClassification\n",
    "from PIL import Image\n",
    "import requests\n",
    "from datasets import load_dataset, DownloadConfig\n",
    "import torch\n",
    "from transformers import TrainingArguments, Trainer\n",
    "import numpy as np\n",
    "import matplotlib.pyplot as plt"
   ]
  },
  {
   "cell_type": "code",
   "execution_count": 2,
   "metadata": {},
   "outputs": [
    {
     "name": "stdout",
     "output_type": "stream",
     "text": [
      "cuda\n"
     ]
    }
   ],
   "source": [
    "device =  'cuda' if torch.cuda.is_available() else 'mps' if torch.backends.mps.is_available() else 'cpu'\n",
    "print(device) # Expected: ‘cuda’ if Linux else ‘mps’ if MacOS\n",
    "device =  'cuda' if torch.cuda.is_available() else 'mps' if torch.backends.mps.is_available() else 'cpu'"
   ]
  },
  {
   "cell_type": "markdown",
   "metadata": {},
   "source": [
    "#### DATASET :\n",
    "\n",
    "\n",
    "- Cada imagen contiene un grano de café\n",
    "- El dataset contiene 4 categorias: peaberry, longberry, premium y defectos\n",
    "- Las categorias son variedades del café verde arábico\n",
    "- Las dimensiones del dataset es 256 x 256 píxeles\n",
    "- Son en total 8000 imágenes distribuidos de forma uniforme en cada categoría"
   ]
  },
  {
   "cell_type": "code",
   "execution_count": 3,
   "metadata": {},
   "outputs": [],
   "source": [
    "download_config = DownloadConfig(delete_extracted=True, download_desc=None)\n",
    "dataset = load_dataset(\"duvdar/usk-coffee\")"
   ]
  },
  {
   "cell_type": "markdown",
   "metadata": {},
   "source": [
    "#### REDUCCION DE DATASET PARA DIMINUIR EL NIVEL DE RECURSOS COMPUTACIONALES"
   ]
  },
  {
   "cell_type": "code",
   "execution_count": 4,
   "metadata": {},
   "outputs": [
    {
     "name": "stdout",
     "output_type": "stream",
     "text": [
      "DatasetDict({\n",
      "    train: Dataset({\n",
      "        features: ['image', 'label'],\n",
      "        num_rows: 6400\n",
      "    })\n",
      "    test: Dataset({\n",
      "        features: ['image', 'label'],\n",
      "        num_rows: 1600\n",
      "    })\n",
      "})\n"
     ]
    }
   ],
   "source": [
    "dataset0 = dataset['train'].train_test_split(test_size=0.2, seed=42)\n",
    "print(dataset0)"
   ]
  },
  {
   "cell_type": "code",
   "execution_count": 5,
   "metadata": {},
   "outputs": [
    {
     "name": "stdout",
     "output_type": "stream",
     "text": [
      "DatasetDict({\n",
      "    train: Dataset({\n",
      "        features: ['image', 'label'],\n",
      "        num_rows: 4480\n",
      "    })\n",
      "    test: Dataset({\n",
      "        features: ['image', 'label'],\n",
      "        num_rows: 1920\n",
      "    })\n",
      "})\n"
     ]
    }
   ],
   "source": [
    "dataset = dataset0['train'].train_test_split(test_size=0.3, seed=42)\n",
    "print(dataset)"
   ]
  },
  {
   "cell_type": "markdown",
   "metadata": {},
   "source": [
    "#### MODELO: MOBILEVIT - X\n",
    "\n",
    "- https://huggingface.co/docs/transformers/model_doc/mobilevit\n",
    "- El modelo MOBILEVIT tiene 3 variaciones: MobileViT-XXS(1.3M), MobileViT-XS(2.3M) y MobileViT-S (5.6M)"
   ]
  },
  {
   "cell_type": "code",
   "execution_count": 6,
   "metadata": {},
   "outputs": [
    {
     "name": "stderr",
     "output_type": "stream",
     "text": [
      "c:\\Users\\PC-01\\Documents\\ENTORNOS_PYTHON\\venvi_pytorch118\\lib\\site-packages\\transformers\\models\\mobilevit\\feature_extraction_mobilevit.py:28: FutureWarning: The class MobileViTFeatureExtractor is deprecated and will be removed in version 5 of Transformers. Please use MobileViTImageProcessor instead.\n",
      "  warnings.warn(\n"
     ]
    }
   ],
   "source": [
    "processor = MobileViTFeatureExtractor.from_pretrained(\"apple/mobilevit-x-small\")\n",
    "model = MobileViTForImageClassification.from_pretrained(\"apple/mobilevit-x-small\")"
   ]
  },
  {
   "cell_type": "code",
   "execution_count": 19,
   "metadata": {},
   "outputs": [
    {
     "data": {
      "text/plain": [
       "MobileViTForImageClassification(\n",
       "  (mobilevit): MobileViTModel(\n",
       "    (conv_stem): MobileViTConvLayer(\n",
       "      (convolution): Conv2d(3, 16, kernel_size=(3, 3), stride=(2, 2), padding=(1, 1), bias=False)\n",
       "      (normalization): BatchNorm2d(16, eps=1e-05, momentum=0.1, affine=True, track_running_stats=True)\n",
       "      (activation): SiLU()\n",
       "    )\n",
       "    (encoder): MobileViTEncoder(\n",
       "      (layer): ModuleList(\n",
       "        (0): MobileViTMobileNetLayer(\n",
       "          (layer): ModuleList(\n",
       "            (0): MobileViTInvertedResidual(\n",
       "              (expand_1x1): MobileViTConvLayer(\n",
       "                (convolution): Conv2d(16, 64, kernel_size=(1, 1), stride=(1, 1), bias=False)\n",
       "                (normalization): BatchNorm2d(64, eps=1e-05, momentum=0.1, affine=True, track_running_stats=True)\n",
       "                (activation): SiLU()\n",
       "              )\n",
       "              (conv_3x3): MobileViTConvLayer(\n",
       "                (convolution): Conv2d(64, 64, kernel_size=(3, 3), stride=(1, 1), padding=(1, 1), groups=64, bias=False)\n",
       "                (normalization): BatchNorm2d(64, eps=1e-05, momentum=0.1, affine=True, track_running_stats=True)\n",
       "                (activation): SiLU()\n",
       "              )\n",
       "              (reduce_1x1): MobileViTConvLayer(\n",
       "                (convolution): Conv2d(64, 32, kernel_size=(1, 1), stride=(1, 1), bias=False)\n",
       "                (normalization): BatchNorm2d(32, eps=1e-05, momentum=0.1, affine=True, track_running_stats=True)\n",
       "              )\n",
       "            )\n",
       "          )\n",
       "        )\n",
       "        (1): MobileViTMobileNetLayer(\n",
       "          (layer): ModuleList(\n",
       "            (0): MobileViTInvertedResidual(\n",
       "              (expand_1x1): MobileViTConvLayer(\n",
       "                (convolution): Conv2d(32, 128, kernel_size=(1, 1), stride=(1, 1), bias=False)\n",
       "                (normalization): BatchNorm2d(128, eps=1e-05, momentum=0.1, affine=True, track_running_stats=True)\n",
       "                (activation): SiLU()\n",
       "              )\n",
       "              (conv_3x3): MobileViTConvLayer(\n",
       "                (convolution): Conv2d(128, 128, kernel_size=(3, 3), stride=(2, 2), padding=(1, 1), groups=128, bias=False)\n",
       "                (normalization): BatchNorm2d(128, eps=1e-05, momentum=0.1, affine=True, track_running_stats=True)\n",
       "                (activation): SiLU()\n",
       "              )\n",
       "              (reduce_1x1): MobileViTConvLayer(\n",
       "                (convolution): Conv2d(128, 48, kernel_size=(1, 1), stride=(1, 1), bias=False)\n",
       "                (normalization): BatchNorm2d(48, eps=1e-05, momentum=0.1, affine=True, track_running_stats=True)\n",
       "              )\n",
       "            )\n",
       "            (1-2): 2 x MobileViTInvertedResidual(\n",
       "              (expand_1x1): MobileViTConvLayer(\n",
       "                (convolution): Conv2d(48, 192, kernel_size=(1, 1), stride=(1, 1), bias=False)\n",
       "                (normalization): BatchNorm2d(192, eps=1e-05, momentum=0.1, affine=True, track_running_stats=True)\n",
       "                (activation): SiLU()\n",
       "              )\n",
       "              (conv_3x3): MobileViTConvLayer(\n",
       "                (convolution): Conv2d(192, 192, kernel_size=(3, 3), stride=(1, 1), padding=(1, 1), groups=192, bias=False)\n",
       "                (normalization): BatchNorm2d(192, eps=1e-05, momentum=0.1, affine=True, track_running_stats=True)\n",
       "                (activation): SiLU()\n",
       "              )\n",
       "              (reduce_1x1): MobileViTConvLayer(\n",
       "                (convolution): Conv2d(192, 48, kernel_size=(1, 1), stride=(1, 1), bias=False)\n",
       "                (normalization): BatchNorm2d(48, eps=1e-05, momentum=0.1, affine=True, track_running_stats=True)\n",
       "              )\n",
       "            )\n",
       "          )\n",
       "        )\n",
       "        (2): MobileViTLayer(\n",
       "          (downsampling_layer): MobileViTInvertedResidual(\n",
       "            (expand_1x1): MobileViTConvLayer(\n",
       "              (convolution): Conv2d(48, 192, kernel_size=(1, 1), stride=(1, 1), bias=False)\n",
       "              (normalization): BatchNorm2d(192, eps=1e-05, momentum=0.1, affine=True, track_running_stats=True)\n",
       "              (activation): SiLU()\n",
       "            )\n",
       "            (conv_3x3): MobileViTConvLayer(\n",
       "              (convolution): Conv2d(192, 192, kernel_size=(3, 3), stride=(2, 2), padding=(1, 1), groups=192, bias=False)\n",
       "              (normalization): BatchNorm2d(192, eps=1e-05, momentum=0.1, affine=True, track_running_stats=True)\n",
       "              (activation): SiLU()\n",
       "            )\n",
       "            (reduce_1x1): MobileViTConvLayer(\n",
       "              (convolution): Conv2d(192, 64, kernel_size=(1, 1), stride=(1, 1), bias=False)\n",
       "              (normalization): BatchNorm2d(64, eps=1e-05, momentum=0.1, affine=True, track_running_stats=True)\n",
       "            )\n",
       "          )\n",
       "          (conv_kxk): MobileViTConvLayer(\n",
       "            (convolution): Conv2d(64, 64, kernel_size=(3, 3), stride=(1, 1), padding=(1, 1), bias=False)\n",
       "            (normalization): BatchNorm2d(64, eps=1e-05, momentum=0.1, affine=True, track_running_stats=True)\n",
       "            (activation): SiLU()\n",
       "          )\n",
       "          (conv_1x1): MobileViTConvLayer(\n",
       "            (convolution): Conv2d(64, 96, kernel_size=(1, 1), stride=(1, 1), bias=False)\n",
       "          )\n",
       "          (transformer): MobileViTTransformer(\n",
       "            (layer): ModuleList(\n",
       "              (0-1): 2 x MobileViTTransformerLayer(\n",
       "                (attention): MobileViTAttention(\n",
       "                  (attention): MobileViTSelfAttention(\n",
       "                    (query): Linear(in_features=96, out_features=96, bias=True)\n",
       "                    (key): Linear(in_features=96, out_features=96, bias=True)\n",
       "                    (value): Linear(in_features=96, out_features=96, bias=True)\n",
       "                    (dropout): Dropout(p=0.0, inplace=False)\n",
       "                  )\n",
       "                  (output): MobileViTSelfOutput(\n",
       "                    (dense): Linear(in_features=96, out_features=96, bias=True)\n",
       "                    (dropout): Dropout(p=0.1, inplace=False)\n",
       "                  )\n",
       "                )\n",
       "                (intermediate): MobileViTIntermediate(\n",
       "                  (dense): Linear(in_features=96, out_features=192, bias=True)\n",
       "                  (intermediate_act_fn): SiLU()\n",
       "                )\n",
       "                (output): MobileViTOutput(\n",
       "                  (dense): Linear(in_features=192, out_features=96, bias=True)\n",
       "                  (dropout): Dropout(p=0.1, inplace=False)\n",
       "                )\n",
       "                (layernorm_before): LayerNorm((96,), eps=1e-05, elementwise_affine=True)\n",
       "                (layernorm_after): LayerNorm((96,), eps=1e-05, elementwise_affine=True)\n",
       "              )\n",
       "            )\n",
       "          )\n",
       "          (layernorm): LayerNorm((96,), eps=1e-05, elementwise_affine=True)\n",
       "          (conv_projection): MobileViTConvLayer(\n",
       "            (convolution): Conv2d(96, 64, kernel_size=(1, 1), stride=(1, 1), bias=False)\n",
       "            (normalization): BatchNorm2d(64, eps=1e-05, momentum=0.1, affine=True, track_running_stats=True)\n",
       "            (activation): SiLU()\n",
       "          )\n",
       "          (fusion): MobileViTConvLayer(\n",
       "            (convolution): Conv2d(128, 64, kernel_size=(3, 3), stride=(1, 1), padding=(1, 1), bias=False)\n",
       "            (normalization): BatchNorm2d(64, eps=1e-05, momentum=0.1, affine=True, track_running_stats=True)\n",
       "            (activation): SiLU()\n",
       "          )\n",
       "        )\n",
       "        (3): MobileViTLayer(\n",
       "          (downsampling_layer): MobileViTInvertedResidual(\n",
       "            (expand_1x1): MobileViTConvLayer(\n",
       "              (convolution): Conv2d(64, 256, kernel_size=(1, 1), stride=(1, 1), bias=False)\n",
       "              (normalization): BatchNorm2d(256, eps=1e-05, momentum=0.1, affine=True, track_running_stats=True)\n",
       "              (activation): SiLU()\n",
       "            )\n",
       "            (conv_3x3): MobileViTConvLayer(\n",
       "              (convolution): Conv2d(256, 256, kernel_size=(3, 3), stride=(2, 2), padding=(1, 1), groups=256, bias=False)\n",
       "              (normalization): BatchNorm2d(256, eps=1e-05, momentum=0.1, affine=True, track_running_stats=True)\n",
       "              (activation): SiLU()\n",
       "            )\n",
       "            (reduce_1x1): MobileViTConvLayer(\n",
       "              (convolution): Conv2d(256, 80, kernel_size=(1, 1), stride=(1, 1), bias=False)\n",
       "              (normalization): BatchNorm2d(80, eps=1e-05, momentum=0.1, affine=True, track_running_stats=True)\n",
       "            )\n",
       "          )\n",
       "          (conv_kxk): MobileViTConvLayer(\n",
       "            (convolution): Conv2d(80, 80, kernel_size=(3, 3), stride=(1, 1), padding=(1, 1), bias=False)\n",
       "            (normalization): BatchNorm2d(80, eps=1e-05, momentum=0.1, affine=True, track_running_stats=True)\n",
       "            (activation): SiLU()\n",
       "          )\n",
       "          (conv_1x1): MobileViTConvLayer(\n",
       "            (convolution): Conv2d(80, 120, kernel_size=(1, 1), stride=(1, 1), bias=False)\n",
       "          )\n",
       "          (transformer): MobileViTTransformer(\n",
       "            (layer): ModuleList(\n",
       "              (0-3): 4 x MobileViTTransformerLayer(\n",
       "                (attention): MobileViTAttention(\n",
       "                  (attention): MobileViTSelfAttention(\n",
       "                    (query): Linear(in_features=120, out_features=120, bias=True)\n",
       "                    (key): Linear(in_features=120, out_features=120, bias=True)\n",
       "                    (value): Linear(in_features=120, out_features=120, bias=True)\n",
       "                    (dropout): Dropout(p=0.0, inplace=False)\n",
       "                  )\n",
       "                  (output): MobileViTSelfOutput(\n",
       "                    (dense): Linear(in_features=120, out_features=120, bias=True)\n",
       "                    (dropout): Dropout(p=0.1, inplace=False)\n",
       "                  )\n",
       "                )\n",
       "                (intermediate): MobileViTIntermediate(\n",
       "                  (dense): Linear(in_features=120, out_features=240, bias=True)\n",
       "                  (intermediate_act_fn): SiLU()\n",
       "                )\n",
       "                (output): MobileViTOutput(\n",
       "                  (dense): Linear(in_features=240, out_features=120, bias=True)\n",
       "                  (dropout): Dropout(p=0.1, inplace=False)\n",
       "                )\n",
       "                (layernorm_before): LayerNorm((120,), eps=1e-05, elementwise_affine=True)\n",
       "                (layernorm_after): LayerNorm((120,), eps=1e-05, elementwise_affine=True)\n",
       "              )\n",
       "            )\n",
       "          )\n",
       "          (layernorm): LayerNorm((120,), eps=1e-05, elementwise_affine=True)\n",
       "          (conv_projection): MobileViTConvLayer(\n",
       "            (convolution): Conv2d(120, 80, kernel_size=(1, 1), stride=(1, 1), bias=False)\n",
       "            (normalization): BatchNorm2d(80, eps=1e-05, momentum=0.1, affine=True, track_running_stats=True)\n",
       "            (activation): SiLU()\n",
       "          )\n",
       "          (fusion): MobileViTConvLayer(\n",
       "            (convolution): Conv2d(160, 80, kernel_size=(3, 3), stride=(1, 1), padding=(1, 1), bias=False)\n",
       "            (normalization): BatchNorm2d(80, eps=1e-05, momentum=0.1, affine=True, track_running_stats=True)\n",
       "            (activation): SiLU()\n",
       "          )\n",
       "        )\n",
       "        (4): MobileViTLayer(\n",
       "          (downsampling_layer): MobileViTInvertedResidual(\n",
       "            (expand_1x1): MobileViTConvLayer(\n",
       "              (convolution): Conv2d(80, 320, kernel_size=(1, 1), stride=(1, 1), bias=False)\n",
       "              (normalization): BatchNorm2d(320, eps=1e-05, momentum=0.1, affine=True, track_running_stats=True)\n",
       "              (activation): SiLU()\n",
       "            )\n",
       "            (conv_3x3): MobileViTConvLayer(\n",
       "              (convolution): Conv2d(320, 320, kernel_size=(3, 3), stride=(2, 2), padding=(1, 1), groups=320, bias=False)\n",
       "              (normalization): BatchNorm2d(320, eps=1e-05, momentum=0.1, affine=True, track_running_stats=True)\n",
       "              (activation): SiLU()\n",
       "            )\n",
       "            (reduce_1x1): MobileViTConvLayer(\n",
       "              (convolution): Conv2d(320, 96, kernel_size=(1, 1), stride=(1, 1), bias=False)\n",
       "              (normalization): BatchNorm2d(96, eps=1e-05, momentum=0.1, affine=True, track_running_stats=True)\n",
       "            )\n",
       "          )\n",
       "          (conv_kxk): MobileViTConvLayer(\n",
       "            (convolution): Conv2d(96, 96, kernel_size=(3, 3), stride=(1, 1), padding=(1, 1), bias=False)\n",
       "            (normalization): BatchNorm2d(96, eps=1e-05, momentum=0.1, affine=True, track_running_stats=True)\n",
       "            (activation): SiLU()\n",
       "          )\n",
       "          (conv_1x1): MobileViTConvLayer(\n",
       "            (convolution): Conv2d(96, 144, kernel_size=(1, 1), stride=(1, 1), bias=False)\n",
       "          )\n",
       "          (transformer): MobileViTTransformer(\n",
       "            (layer): ModuleList(\n",
       "              (0-2): 3 x MobileViTTransformerLayer(\n",
       "                (attention): MobileViTAttention(\n",
       "                  (attention): MobileViTSelfAttention(\n",
       "                    (query): Linear(in_features=144, out_features=144, bias=True)\n",
       "                    (key): Linear(in_features=144, out_features=144, bias=True)\n",
       "                    (value): Linear(in_features=144, out_features=144, bias=True)\n",
       "                    (dropout): Dropout(p=0.0, inplace=False)\n",
       "                  )\n",
       "                  (output): MobileViTSelfOutput(\n",
       "                    (dense): Linear(in_features=144, out_features=144, bias=True)\n",
       "                    (dropout): Dropout(p=0.1, inplace=False)\n",
       "                  )\n",
       "                )\n",
       "                (intermediate): MobileViTIntermediate(\n",
       "                  (dense): Linear(in_features=144, out_features=288, bias=True)\n",
       "                  (intermediate_act_fn): SiLU()\n",
       "                )\n",
       "                (output): MobileViTOutput(\n",
       "                  (dense): Linear(in_features=288, out_features=144, bias=True)\n",
       "                  (dropout): Dropout(p=0.1, inplace=False)\n",
       "                )\n",
       "                (layernorm_before): LayerNorm((144,), eps=1e-05, elementwise_affine=True)\n",
       "                (layernorm_after): LayerNorm((144,), eps=1e-05, elementwise_affine=True)\n",
       "              )\n",
       "            )\n",
       "          )\n",
       "          (layernorm): LayerNorm((144,), eps=1e-05, elementwise_affine=True)\n",
       "          (conv_projection): MobileViTConvLayer(\n",
       "            (convolution): Conv2d(144, 96, kernel_size=(1, 1), stride=(1, 1), bias=False)\n",
       "            (normalization): BatchNorm2d(96, eps=1e-05, momentum=0.1, affine=True, track_running_stats=True)\n",
       "            (activation): SiLU()\n",
       "          )\n",
       "          (fusion): MobileViTConvLayer(\n",
       "            (convolution): Conv2d(192, 96, kernel_size=(3, 3), stride=(1, 1), padding=(1, 1), bias=False)\n",
       "            (normalization): BatchNorm2d(96, eps=1e-05, momentum=0.1, affine=True, track_running_stats=True)\n",
       "            (activation): SiLU()\n",
       "          )\n",
       "        )\n",
       "      )\n",
       "    )\n",
       "    (conv_1x1_exp): MobileViTConvLayer(\n",
       "      (convolution): Conv2d(96, 384, kernel_size=(1, 1), stride=(1, 1), bias=False)\n",
       "      (normalization): BatchNorm2d(384, eps=1e-05, momentum=0.1, affine=True, track_running_stats=True)\n",
       "      (activation): SiLU()\n",
       "    )\n",
       "  )\n",
       "  (dropout): Dropout(p=0.1, inplace=True)\n",
       "  (classifier): Linear(in_features=384, out_features=1000, bias=True)\n",
       ")"
      ]
     },
     "execution_count": 19,
     "metadata": {},
     "output_type": "execute_result"
    }
   ],
   "source": [
    "model"
   ]
  },
  {
   "cell_type": "markdown",
   "metadata": {},
   "source": [
    "#### TAMAÑO DE LAS IMÁGENES"
   ]
  },
  {
   "cell_type": "code",
   "execution_count": 8,
   "metadata": {},
   "outputs": [
    {
     "data": {
      "text/plain": [
       "(256, 256, 3)"
      ]
     },
     "execution_count": 8,
     "metadata": {},
     "output_type": "execute_result"
    }
   ],
   "source": [
    "testeo = np.array(dataset['train'][0]['image'])\n",
    "testeo.shape"
   ]
  },
  {
   "cell_type": "code",
   "execution_count": 9,
   "metadata": {},
   "outputs": [],
   "source": [
    "torch.set_float32_matmul_precision(\"medium\") # optimizacion"
   ]
  },
  {
   "cell_type": "markdown",
   "metadata": {},
   "source": [
    "#### CARGA DE IMAGENES Y PROCESAMIENTO INICIAL"
   ]
  },
  {
   "cell_type": "code",
   "execution_count": null,
   "metadata": {},
   "outputs": [
    {
     "name": "stderr",
     "output_type": "stream",
     "text": [
      "Map: 100%|██████████| 4480/4480 [07:34<00:00,  9.85 examples/s]\n",
      "Map: 100%|██████████| 1920/1920 [03:15<00:00,  9.82 examples/s]\n"
     ]
    }
   ],
   "source": [
    "def preprocess_function(example):\n",
    "    # Aplicar el feature extractor a las imágenes\n",
    "    inputs = processor(images=example['image'], return_tensors='pt')\n",
    "    example['pixel_values'] = inputs['pixel_values'].squeeze()\n",
    "\n",
    "    example['label'] = example['label']\n",
    "\n",
    "\n",
    "\n",
    "    return example\n",
    "\n",
    "\n",
    "train_dataset = dataset['train'].map(preprocess_function)\n",
    "test_dataset = dataset['test'].map(preprocess_function)\n",
    "\n",
    "# Remover columnas innecesarias\n",
    "\n",
    "train_dataset = train_dataset.remove_columns(['image'])\n",
    "test_dataset = test_dataset.remove_columns(['image'])\n",
    "\n",
    "# Establecer el formato de los datasets a tensores de PyTorch\n",
    "train_dataset.set_format(type='torch', columns=['pixel_values', 'label'])\n",
    "test_dataset.set_format(type='torch',columns=['pixel_values', 'label'])"
   ]
  },
  {
   "cell_type": "code",
   "execution_count": 11,
   "metadata": {},
   "outputs": [
    {
     "data": {
      "text/plain": [
       "Dataset({\n",
       "    features: ['label', 'pixel_values'],\n",
       "    num_rows: 1920\n",
       "})"
      ]
     },
     "execution_count": 11,
     "metadata": {},
     "output_type": "execute_result"
    }
   ],
   "source": [
    "test_dataset"
   ]
  },
  {
   "cell_type": "markdown",
   "metadata": {},
   "source": [
    "#### ENTRENAMIENTO"
   ]
  },
  {
   "cell_type": "code",
   "execution_count": 12,
   "metadata": {},
   "outputs": [
    {
     "name": "stderr",
     "output_type": "stream",
     "text": [
      "c:\\Users\\PC-01\\Documents\\ENTORNOS_PYTHON\\venvi_pytorch118\\lib\\site-packages\\transformers\\training_args.py:1568: FutureWarning: `evaluation_strategy` is deprecated and will be removed in version 4.46 of 🤗 Transformers. Use `eval_strategy` instead\n",
      "  warnings.warn(\n",
      "Using auto half precision backend\n",
      "***** Running training *****\n",
      "  Num examples = 4,480\n",
      "  Num Epochs = 30\n",
      "  Instantaneous batch size per device = 32\n",
      "  Total train batch size (w. parallel, distributed & accumulation) = 32\n",
      "  Gradient Accumulation steps = 1\n",
      "  Total optimization steps = 4,200\n",
      "  Number of trainable parameters = 2,317,848\n",
      "  3%|▎         | 139/4200 [00:39<19:06,  3.54it/s]\n",
      "***** Running Evaluation *****\n",
      "  Num examples = 1920\n",
      "  Batch size = 32\n",
      "                                                  \n",
      "  3%|▎         | 140/4200 [00:54<19:06,  3.54it/s]"
     ]
    },
    {
     "name": "stdout",
     "output_type": "stream",
     "text": [
      "{'eval_loss': 6.352921962738037, 'eval_runtime': 14.3962, 'eval_samples_per_second': 133.369, 'eval_steps_per_second': 4.168, 'epoch': 1.0}\n"
     ]
    },
    {
     "name": "stderr",
     "output_type": "stream",
     "text": [
      "  7%|▋         | 279/4200 [01:33<18:54,  3.46it/s]  \n",
      "***** Running Evaluation *****\n",
      "  Num examples = 1920\n",
      "  Batch size = 32\n",
      "                                                  \n",
      "  7%|▋         | 280/4200 [01:47<18:54,  3.46it/s]"
     ]
    },
    {
     "name": "stdout",
     "output_type": "stream",
     "text": [
      "{'eval_loss': 4.744612693786621, 'eval_runtime': 13.6313, 'eval_samples_per_second': 140.852, 'eval_steps_per_second': 4.402, 'epoch': 2.0}\n"
     ]
    },
    {
     "name": "stderr",
     "output_type": "stream",
     "text": [
      " 10%|█         | 420/4200 [02:27<20:16,  3.11it/s]  \n",
      "***** Running Evaluation *****\n",
      "  Num examples = 1920\n",
      "  Batch size = 32\n",
      "                                                  \n",
      " 10%|█         | 420/4200 [02:41<20:16,  3.11it/s]"
     ]
    },
    {
     "name": "stdout",
     "output_type": "stream",
     "text": [
      "{'eval_loss': 3.3382537364959717, 'eval_runtime': 13.7648, 'eval_samples_per_second': 139.486, 'eval_steps_per_second': 4.359, 'epoch': 3.0}\n"
     ]
    },
    {
     "name": "stderr",
     "output_type": "stream",
     "text": [
      " 12%|█▏        | 500/4200 [03:03<17:14,  3.58it/s]  Saving model checkpoint to G:\\Mi unidad\\Archivos_2024\\UBA\\ESP_IOT\\VisionTransformers\\TP3\\salida_finetuned\\checkpoint-500\n",
      "Configuration saved in G:\\Mi unidad\\Archivos_2024\\UBA\\ESP_IOT\\VisionTransformers\\TP3\\salida_finetuned\\checkpoint-500\\config.json\n",
      "Model weights saved in G:\\Mi unidad\\Archivos_2024\\UBA\\ESP_IOT\\VisionTransformers\\TP3\\salida_finetuned\\checkpoint-500\\model.safetensors\n"
     ]
    },
    {
     "name": "stdout",
     "output_type": "stream",
     "text": [
      "{'loss': 5.2411, 'grad_norm': 19.688669204711914, 'learning_rate': 8.819047619047619e-06, 'epoch': 3.57}\n"
     ]
    },
    {
     "name": "stderr",
     "output_type": "stream",
     "text": [
      " 13%|█▎        | 559/4200 [03:20<16:26,  3.69it/s]\n",
      "***** Running Evaluation *****\n",
      "  Num examples = 1920\n",
      "  Batch size = 32\n",
      "                                                  \n",
      " 13%|█▎        | 560/4200 [03:33<16:26,  3.69it/s]"
     ]
    },
    {
     "name": "stdout",
     "output_type": "stream",
     "text": [
      "{'eval_loss': 2.3855624198913574, 'eval_runtime': 13.6555, 'eval_samples_per_second': 140.602, 'eval_steps_per_second': 4.394, 'epoch': 4.0}\n"
     ]
    },
    {
     "name": "stderr",
     "output_type": "stream",
     "text": [
      " 17%|█▋        | 699/4200 [04:11<14:29,  4.02it/s]  \n",
      "***** Running Evaluation *****\n",
      "  Num examples = 1920\n",
      "  Batch size = 32\n",
      "                                                  \n",
      " 17%|█▋        | 700/4200 [04:25<14:29,  4.02it/s]"
     ]
    },
    {
     "name": "stdout",
     "output_type": "stream",
     "text": [
      "{'eval_loss': 1.7870404720306396, 'eval_runtime': 13.7916, 'eval_samples_per_second': 139.216, 'eval_steps_per_second': 4.35, 'epoch': 5.0}\n"
     ]
    },
    {
     "name": "stderr",
     "output_type": "stream",
     "text": [
      " 20%|█▉        | 839/4200 [05:02<15:15,  3.67it/s]  \n",
      "***** Running Evaluation *****\n",
      "  Num examples = 1920\n",
      "  Batch size = 32\n",
      "                                                  \n",
      " 20%|██        | 840/4200 [05:15<15:14,  3.67it/s]"
     ]
    },
    {
     "name": "stdout",
     "output_type": "stream",
     "text": [
      "{'eval_loss': 1.3788424730300903, 'eval_runtime': 13.4912, 'eval_samples_per_second': 142.315, 'eval_steps_per_second': 4.447, 'epoch': 6.0}\n"
     ]
    },
    {
     "name": "stderr",
     "output_type": "stream",
     "text": [
      " 23%|██▎       | 979/4200 [05:53<14:23,  3.73it/s]  \n",
      "***** Running Evaluation *****\n",
      "  Num examples = 1920\n",
      "  Batch size = 32\n",
      "                                                  \n",
      " 23%|██▎       | 980/4200 [06:07<14:22,  3.73it/s]"
     ]
    },
    {
     "name": "stdout",
     "output_type": "stream",
     "text": [
      "{'eval_loss': 1.1934372186660767, 'eval_runtime': 13.5971, 'eval_samples_per_second': 141.207, 'eval_steps_per_second': 4.413, 'epoch': 7.0}\n"
     ]
    },
    {
     "name": "stderr",
     "output_type": "stream",
     "text": [
      " 24%|██▍       | 1000/4200 [06:13<13:50,  3.85it/s] Saving model checkpoint to G:\\Mi unidad\\Archivos_2024\\UBA\\ESP_IOT\\VisionTransformers\\TP3\\salida_finetuned\\checkpoint-1000\n",
      "Configuration saved in G:\\Mi unidad\\Archivos_2024\\UBA\\ESP_IOT\\VisionTransformers\\TP3\\salida_finetuned\\checkpoint-1000\\config.json\n",
      "Model weights saved in G:\\Mi unidad\\Archivos_2024\\UBA\\ESP_IOT\\VisionTransformers\\TP3\\salida_finetuned\\checkpoint-1000\\model.safetensors\n"
     ]
    },
    {
     "name": "stdout",
     "output_type": "stream",
     "text": [
      "{'loss': 1.9017, 'grad_norm': 21.856306076049805, 'learning_rate': 7.630952380952381e-06, 'epoch': 7.14}\n"
     ]
    },
    {
     "name": "stderr",
     "output_type": "stream",
     "text": [
      " 27%|██▋       | 1119/4200 [06:45<13:28,  3.81it/s]\n",
      "***** Running Evaluation *****\n",
      "  Num examples = 1920\n",
      "  Batch size = 32\n",
      "                                                   \n",
      " 27%|██▋       | 1120/4200 [06:58<13:28,  3.81it/s]"
     ]
    },
    {
     "name": "stdout",
     "output_type": "stream",
     "text": [
      "{'eval_loss': 1.0135782957077026, 'eval_runtime': 13.5692, 'eval_samples_per_second': 141.497, 'eval_steps_per_second': 4.422, 'epoch': 8.0}\n"
     ]
    },
    {
     "name": "stderr",
     "output_type": "stream",
     "text": [
      " 30%|██▉       | 1259/4200 [07:37<13:44,  3.57it/s]  \n",
      "***** Running Evaluation *****\n",
      "  Num examples = 1920\n",
      "  Batch size = 32\n",
      "                                                   \n",
      " 30%|███       | 1260/4200 [07:51<13:44,  3.57it/s]"
     ]
    },
    {
     "name": "stdout",
     "output_type": "stream",
     "text": [
      "{'eval_loss': 0.8591774106025696, 'eval_runtime': 13.9178, 'eval_samples_per_second': 137.953, 'eval_steps_per_second': 4.311, 'epoch': 9.0}\n"
     ]
    },
    {
     "name": "stderr",
     "output_type": "stream",
     "text": [
      " 33%|███▎      | 1400/4200 [08:29<10:26,  4.47it/s]  \n",
      "***** Running Evaluation *****\n",
      "  Num examples = 1920\n",
      "  Batch size = 32\n",
      "                                                   \n",
      " 33%|███▎      | 1400/4200 [08:43<10:26,  4.47it/s]"
     ]
    },
    {
     "name": "stdout",
     "output_type": "stream",
     "text": [
      "{'eval_loss': 0.786047101020813, 'eval_runtime': 13.5648, 'eval_samples_per_second': 141.543, 'eval_steps_per_second': 4.423, 'epoch': 10.0}\n"
     ]
    },
    {
     "name": "stderr",
     "output_type": "stream",
     "text": [
      " 36%|███▌      | 1500/4200 [09:10<11:31,  3.91it/s]  Saving model checkpoint to G:\\Mi unidad\\Archivos_2024\\UBA\\ESP_IOT\\VisionTransformers\\TP3\\salida_finetuned\\checkpoint-1500\n",
      "Configuration saved in G:\\Mi unidad\\Archivos_2024\\UBA\\ESP_IOT\\VisionTransformers\\TP3\\salida_finetuned\\checkpoint-1500\\config.json\n",
      "Model weights saved in G:\\Mi unidad\\Archivos_2024\\UBA\\ESP_IOT\\VisionTransformers\\TP3\\salida_finetuned\\checkpoint-1500\\model.safetensors\n"
     ]
    },
    {
     "name": "stdout",
     "output_type": "stream",
     "text": [
      "{'loss': 0.9666, 'grad_norm': 27.81930160522461, 'learning_rate': 6.4404761904761916e-06, 'epoch': 10.71}\n"
     ]
    },
    {
     "name": "stderr",
     "output_type": "stream",
     "text": [
      " 37%|███▋      | 1539/4200 [09:21<11:36,  3.82it/s]\n",
      "***** Running Evaluation *****\n",
      "  Num examples = 1920\n",
      "  Batch size = 32\n",
      "                                                   \n",
      " 37%|███▋      | 1540/4200 [09:35<11:36,  3.82it/s]"
     ]
    },
    {
     "name": "stdout",
     "output_type": "stream",
     "text": [
      "{'eval_loss': 0.7307398319244385, 'eval_runtime': 13.8169, 'eval_samples_per_second': 138.961, 'eval_steps_per_second': 4.343, 'epoch': 11.0}\n"
     ]
    },
    {
     "name": "stderr",
     "output_type": "stream",
     "text": [
      " 40%|████      | 1680/4200 [10:13<09:29,  4.42it/s]  \n",
      "***** Running Evaluation *****\n",
      "  Num examples = 1920\n",
      "  Batch size = 32\n",
      "                                                   \n",
      " 40%|████      | 1680/4200 [10:26<09:29,  4.42it/s]"
     ]
    },
    {
     "name": "stdout",
     "output_type": "stream",
     "text": [
      "{'eval_loss': 0.6556293964385986, 'eval_runtime': 13.7005, 'eval_samples_per_second': 140.141, 'eval_steps_per_second': 4.379, 'epoch': 12.0}\n"
     ]
    },
    {
     "name": "stderr",
     "output_type": "stream",
     "text": [
      " 43%|████▎     | 1819/4200 [11:04<10:25,  3.80it/s]  \n",
      "***** Running Evaluation *****\n",
      "  Num examples = 1920\n",
      "  Batch size = 32\n",
      "                                                   \n",
      " 43%|████▎     | 1820/4200 [11:17<10:25,  3.80it/s]"
     ]
    },
    {
     "name": "stdout",
     "output_type": "stream",
     "text": [
      "{'eval_loss': 0.6183752417564392, 'eval_runtime': 13.65, 'eval_samples_per_second': 140.66, 'eval_steps_per_second': 4.396, 'epoch': 13.0}\n"
     ]
    },
    {
     "name": "stderr",
     "output_type": "stream",
     "text": [
      " 47%|████▋     | 1959/4200 [11:55<10:00,  3.73it/s]  \n",
      "***** Running Evaluation *****\n",
      "  Num examples = 1920\n",
      "  Batch size = 32\n",
      "                                                   \n",
      " 47%|████▋     | 1960/4200 [12:09<10:00,  3.73it/s]"
     ]
    },
    {
     "name": "stdout",
     "output_type": "stream",
     "text": [
      "{'eval_loss': 0.5716121792793274, 'eval_runtime': 13.4448, 'eval_samples_per_second': 142.807, 'eval_steps_per_second': 4.463, 'epoch': 14.0}\n"
     ]
    },
    {
     "name": "stderr",
     "output_type": "stream",
     "text": [
      " 48%|████▊     | 2000/4200 [12:20<10:20,  3.55it/s]  Saving model checkpoint to G:\\Mi unidad\\Archivos_2024\\UBA\\ESP_IOT\\VisionTransformers\\TP3\\salida_finetuned\\checkpoint-2000\n",
      "Configuration saved in G:\\Mi unidad\\Archivos_2024\\UBA\\ESP_IOT\\VisionTransformers\\TP3\\salida_finetuned\\checkpoint-2000\\config.json\n",
      "Model weights saved in G:\\Mi unidad\\Archivos_2024\\UBA\\ESP_IOT\\VisionTransformers\\TP3\\salida_finetuned\\checkpoint-2000\\model.safetensors\n"
     ]
    },
    {
     "name": "stdout",
     "output_type": "stream",
     "text": [
      "{'loss': 0.6605, 'grad_norm': 17.263639450073242, 'learning_rate': 5.2500000000000006e-06, 'epoch': 14.29}\n"
     ]
    },
    {
     "name": "stderr",
     "output_type": "stream",
     "text": [
      " 50%|████▉     | 2099/4200 [12:47<09:23,  3.73it/s]\n",
      "***** Running Evaluation *****\n",
      "  Num examples = 1920\n",
      "  Batch size = 32\n",
      "                                                   \n",
      " 50%|█████     | 2100/4200 [13:01<09:23,  3.73it/s]"
     ]
    },
    {
     "name": "stdout",
     "output_type": "stream",
     "text": [
      "{'eval_loss': 0.5592653751373291, 'eval_runtime': 13.6773, 'eval_samples_per_second': 140.378, 'eval_steps_per_second': 4.387, 'epoch': 15.0}\n"
     ]
    },
    {
     "name": "stderr",
     "output_type": "stream",
     "text": [
      " 53%|█████▎    | 2239/4200 [13:39<08:32,  3.83it/s]  \n",
      "***** Running Evaluation *****\n",
      "  Num examples = 1920\n",
      "  Batch size = 32\n",
      "                                                   \n",
      " 53%|█████▎    | 2240/4200 [13:53<08:32,  3.83it/s]"
     ]
    },
    {
     "name": "stdout",
     "output_type": "stream",
     "text": [
      "{'eval_loss': 0.5406305193901062, 'eval_runtime': 13.8078, 'eval_samples_per_second': 139.052, 'eval_steps_per_second': 4.345, 'epoch': 16.0}\n"
     ]
    },
    {
     "name": "stderr",
     "output_type": "stream",
     "text": [
      " 57%|█████▋    | 2379/4200 [14:31<08:08,  3.73it/s]  \n",
      "***** Running Evaluation *****\n",
      "  Num examples = 1920\n",
      "  Batch size = 32\n",
      "                                                   \n",
      " 57%|█████▋    | 2380/4200 [14:45<08:08,  3.73it/s]"
     ]
    },
    {
     "name": "stdout",
     "output_type": "stream",
     "text": [
      "{'eval_loss': 0.4990362226963043, 'eval_runtime': 13.7697, 'eval_samples_per_second': 139.436, 'eval_steps_per_second': 4.357, 'epoch': 17.0}\n"
     ]
    },
    {
     "name": "stderr",
     "output_type": "stream",
     "text": [
      " 60%|█████▉    | 2500/4200 [15:18<07:41,  3.69it/s]  Saving model checkpoint to G:\\Mi unidad\\Archivos_2024\\UBA\\ESP_IOT\\VisionTransformers\\TP3\\salida_finetuned\\checkpoint-2500\n",
      "Configuration saved in G:\\Mi unidad\\Archivos_2024\\UBA\\ESP_IOT\\VisionTransformers\\TP3\\salida_finetuned\\checkpoint-2500\\config.json\n",
      "Model weights saved in G:\\Mi unidad\\Archivos_2024\\UBA\\ESP_IOT\\VisionTransformers\\TP3\\salida_finetuned\\checkpoint-2500\\model.safetensors\n"
     ]
    },
    {
     "name": "stdout",
     "output_type": "stream",
     "text": [
      "{'loss': 0.5244, 'grad_norm': 37.12360763549805, 'learning_rate': 4.0595238095238095e-06, 'epoch': 17.86}\n"
     ]
    },
    {
     "name": "stderr",
     "output_type": "stream",
     "text": [
      " 60%|█████▉    | 2519/4200 [15:23<07:35,  3.69it/s]\n",
      "***** Running Evaluation *****\n",
      "  Num examples = 1920\n",
      "  Batch size = 32\n",
      "                                                   \n",
      " 60%|██████    | 2520/4200 [15:37<07:35,  3.69it/s]"
     ]
    },
    {
     "name": "stdout",
     "output_type": "stream",
     "text": [
      "{'eval_loss': 0.48336607217788696, 'eval_runtime': 13.6095, 'eval_samples_per_second': 141.078, 'eval_steps_per_second': 4.409, 'epoch': 18.0}\n"
     ]
    },
    {
     "name": "stderr",
     "output_type": "stream",
     "text": [
      " 63%|██████▎   | 2660/4200 [16:15<05:20,  4.81it/s]  \n",
      "***** Running Evaluation *****\n",
      "  Num examples = 1920\n",
      "  Batch size = 32\n",
      "                                                   \n",
      " 63%|██████▎   | 2660/4200 [16:28<05:20,  4.81it/s]"
     ]
    },
    {
     "name": "stdout",
     "output_type": "stream",
     "text": [
      "{'eval_loss': 0.48212891817092896, 'eval_runtime': 13.5793, 'eval_samples_per_second': 141.391, 'eval_steps_per_second': 4.418, 'epoch': 19.0}\n"
     ]
    },
    {
     "name": "stderr",
     "output_type": "stream",
     "text": [
      " 67%|██████▋   | 2799/4200 [17:06<06:14,  3.74it/s]  \n",
      "***** Running Evaluation *****\n",
      "  Num examples = 1920\n",
      "  Batch size = 32\n",
      "                                                   \n",
      " 67%|██████▋   | 2800/4200 [17:20<06:14,  3.74it/s]"
     ]
    },
    {
     "name": "stdout",
     "output_type": "stream",
     "text": [
      "{'eval_loss': 0.47714874148368835, 'eval_runtime': 13.5025, 'eval_samples_per_second': 142.196, 'eval_steps_per_second': 4.444, 'epoch': 20.0}\n"
     ]
    },
    {
     "name": "stderr",
     "output_type": "stream",
     "text": [
      " 70%|██████▉   | 2939/4200 [17:57<05:35,  3.76it/s]  \n",
      "***** Running Evaluation *****\n",
      "  Num examples = 1920\n",
      "  Batch size = 32\n",
      "                                                   \n",
      " 70%|███████   | 2940/4200 [18:10<05:35,  3.76it/s]"
     ]
    },
    {
     "name": "stdout",
     "output_type": "stream",
     "text": [
      "{'eval_loss': 0.4556891620159149, 'eval_runtime': 13.4546, 'eval_samples_per_second': 142.703, 'eval_steps_per_second': 4.459, 'epoch': 21.0}\n"
     ]
    },
    {
     "name": "stderr",
     "output_type": "stream",
     "text": [
      " 71%|███████▏  | 3000/4200 [18:27<05:20,  3.75it/s]  Saving model checkpoint to G:\\Mi unidad\\Archivos_2024\\UBA\\ESP_IOT\\VisionTransformers\\TP3\\salida_finetuned\\checkpoint-3000\n",
      "Configuration saved in G:\\Mi unidad\\Archivos_2024\\UBA\\ESP_IOT\\VisionTransformers\\TP3\\salida_finetuned\\checkpoint-3000\\config.json\n",
      "Model weights saved in G:\\Mi unidad\\Archivos_2024\\UBA\\ESP_IOT\\VisionTransformers\\TP3\\salida_finetuned\\checkpoint-3000\\model.safetensors\n"
     ]
    },
    {
     "name": "stdout",
     "output_type": "stream",
     "text": [
      "{'loss': 0.4568, 'grad_norm': 23.266298294067383, 'learning_rate': 2.869047619047619e-06, 'epoch': 21.43}\n"
     ]
    },
    {
     "name": "stderr",
     "output_type": "stream",
     "text": [
      " 73%|███████▎  | 3079/4200 [18:48<04:48,  3.89it/s]\n",
      "***** Running Evaluation *****\n",
      "  Num examples = 1920\n",
      "  Batch size = 32\n",
      "                                                   \n",
      " 73%|███████▎  | 3080/4200 [19:02<04:47,  3.89it/s]"
     ]
    },
    {
     "name": "stdout",
     "output_type": "stream",
     "text": [
      "{'eval_loss': 0.45631706714630127, 'eval_runtime': 13.7492, 'eval_samples_per_second': 139.644, 'eval_steps_per_second': 4.364, 'epoch': 22.0}\n"
     ]
    },
    {
     "name": "stderr",
     "output_type": "stream",
     "text": [
      " 77%|███████▋  | 3219/4200 [19:40<04:20,  3.77it/s]  \n",
      "***** Running Evaluation *****\n",
      "  Num examples = 1920\n",
      "  Batch size = 32\n",
      "                                                   \n",
      " 77%|███████▋  | 3220/4200 [19:54<04:20,  3.77it/s]"
     ]
    },
    {
     "name": "stdout",
     "output_type": "stream",
     "text": [
      "{'eval_loss': 0.4532950818538666, 'eval_runtime': 13.5821, 'eval_samples_per_second': 141.362, 'eval_steps_per_second': 4.418, 'epoch': 23.0}\n"
     ]
    },
    {
     "name": "stderr",
     "output_type": "stream",
     "text": [
      " 80%|████████  | 3360/4200 [20:31<03:15,  4.30it/s]\n",
      "***** Running Evaluation *****\n",
      "  Num examples = 1920\n",
      "  Batch size = 32\n",
      "                                                   \n",
      " 80%|████████  | 3360/4200 [20:45<03:15,  4.30it/s]"
     ]
    },
    {
     "name": "stdout",
     "output_type": "stream",
     "text": [
      "{'eval_loss': 0.4432029128074646, 'eval_runtime': 13.7457, 'eval_samples_per_second': 139.68, 'eval_steps_per_second': 4.365, 'epoch': 24.0}\n"
     ]
    },
    {
     "name": "stderr",
     "output_type": "stream",
     "text": [
      " 83%|████████▎ | 3500/4200 [21:23<03:13,  3.61it/s]  Saving model checkpoint to G:\\Mi unidad\\Archivos_2024\\UBA\\ESP_IOT\\VisionTransformers\\TP3\\salida_finetuned\\checkpoint-3500\n",
      "Configuration saved in G:\\Mi unidad\\Archivos_2024\\UBA\\ESP_IOT\\VisionTransformers\\TP3\\salida_finetuned\\checkpoint-3500\\config.json\n",
      "Model weights saved in G:\\Mi unidad\\Archivos_2024\\UBA\\ESP_IOT\\VisionTransformers\\TP3\\salida_finetuned\\checkpoint-3500\\model.safetensors\n"
     ]
    },
    {
     "name": "stdout",
     "output_type": "stream",
     "text": [
      "{'loss': 0.3841, 'grad_norm': 32.00756072998047, 'learning_rate': 1.6809523809523811e-06, 'epoch': 25.0}\n"
     ]
    },
    {
     "name": "stderr",
     "output_type": "stream",
     "text": [
      "\n",
      "***** Running Evaluation *****\n",
      "  Num examples = 1920\n",
      "  Batch size = 32\n",
      "                                                   \n",
      " 83%|████████▎ | 3500/4200 [21:37<03:13,  3.61it/s]"
     ]
    },
    {
     "name": "stdout",
     "output_type": "stream",
     "text": [
      "{'eval_loss': 0.43612679839134216, 'eval_runtime': 13.9225, 'eval_samples_per_second': 137.906, 'eval_steps_per_second': 4.31, 'epoch': 25.0}\n"
     ]
    },
    {
     "name": "stderr",
     "output_type": "stream",
     "text": [
      " 87%|████████▋ | 3639/4200 [22:15<02:30,  3.72it/s]\n",
      "***** Running Evaluation *****\n",
      "  Num examples = 1920\n",
      "  Batch size = 32\n",
      "                                                   \n",
      " 87%|████████▋ | 3640/4200 [22:28<02:30,  3.72it/s]"
     ]
    },
    {
     "name": "stdout",
     "output_type": "stream",
     "text": [
      "{'eval_loss': 0.42604559659957886, 'eval_runtime': 13.6514, 'eval_samples_per_second': 140.644, 'eval_steps_per_second': 4.395, 'epoch': 26.0}\n"
     ]
    },
    {
     "name": "stderr",
     "output_type": "stream",
     "text": [
      " 90%|█████████ | 3780/4200 [23:06<01:30,  4.64it/s]\n",
      "***** Running Evaluation *****\n",
      "  Num examples = 1920\n",
      "  Batch size = 32\n",
      "                                                   \n",
      " 90%|█████████ | 3780/4200 [23:20<01:30,  4.64it/s]"
     ]
    },
    {
     "name": "stdout",
     "output_type": "stream",
     "text": [
      "{'eval_loss': 0.43505600094795227, 'eval_runtime': 13.6595, 'eval_samples_per_second': 140.562, 'eval_steps_per_second': 4.393, 'epoch': 27.0}\n"
     ]
    },
    {
     "name": "stderr",
     "output_type": "stream",
     "text": [
      " 93%|█████████▎| 3919/4200 [23:57<01:15,  3.74it/s]\n",
      "***** Running Evaluation *****\n",
      "  Num examples = 1920\n",
      "  Batch size = 32\n",
      "                                                   \n",
      " 93%|█████████▎| 3920/4200 [24:11<01:14,  3.74it/s]"
     ]
    },
    {
     "name": "stdout",
     "output_type": "stream",
     "text": [
      "{'eval_loss': 0.4311869442462921, 'eval_runtime': 13.6422, 'eval_samples_per_second': 140.74, 'eval_steps_per_second': 4.398, 'epoch': 28.0}\n"
     ]
    },
    {
     "name": "stderr",
     "output_type": "stream",
     "text": [
      " 95%|█████████▌| 4000/4200 [24:32<00:54,  3.70it/s]Saving model checkpoint to G:\\Mi unidad\\Archivos_2024\\UBA\\ESP_IOT\\VisionTransformers\\TP3\\salida_finetuned\\checkpoint-4000\n",
      "Configuration saved in G:\\Mi unidad\\Archivos_2024\\UBA\\ESP_IOT\\VisionTransformers\\TP3\\salida_finetuned\\checkpoint-4000\\config.json\n",
      "Model weights saved in G:\\Mi unidad\\Archivos_2024\\UBA\\ESP_IOT\\VisionTransformers\\TP3\\salida_finetuned\\checkpoint-4000\\model.safetensors\n"
     ]
    },
    {
     "name": "stdout",
     "output_type": "stream",
     "text": [
      "{'loss': 0.3575, 'grad_norm': 29.259042739868164, 'learning_rate': 4.904761904761905e-07, 'epoch': 28.57}\n"
     ]
    },
    {
     "name": "stderr",
     "output_type": "stream",
     "text": [
      " 97%|█████████▋| 4059/4200 [24:48<00:34,  4.03it/s]\n",
      "***** Running Evaluation *****\n",
      "  Num examples = 1920\n",
      "  Batch size = 32\n",
      "                                                   \n",
      " 97%|█████████▋| 4060/4200 [25:02<00:34,  4.03it/s]"
     ]
    },
    {
     "name": "stdout",
     "output_type": "stream",
     "text": [
      "{'eval_loss': 0.4276319444179535, 'eval_runtime': 13.8232, 'eval_samples_per_second': 138.897, 'eval_steps_per_second': 4.341, 'epoch': 29.0}\n"
     ]
    },
    {
     "name": "stderr",
     "output_type": "stream",
     "text": [
      "100%|█████████▉| 4199/4200 [25:40<00:00,  3.72it/s]Saving model checkpoint to G:\\Mi unidad\\Archivos_2024\\UBA\\ESP_IOT\\VisionTransformers\\TP3\\salida_finetuned\\checkpoint-4200\n",
      "Configuration saved in G:\\Mi unidad\\Archivos_2024\\UBA\\ESP_IOT\\VisionTransformers\\TP3\\salida_finetuned\\checkpoint-4200\\config.json\n",
      "Model weights saved in G:\\Mi unidad\\Archivos_2024\\UBA\\ESP_IOT\\VisionTransformers\\TP3\\salida_finetuned\\checkpoint-4200\\model.safetensors\n",
      "\n",
      "***** Running Evaluation *****\n",
      "  Num examples = 1920\n",
      "  Batch size = 32\n",
      "                                                   \n",
      "100%|██████████| 4200/4200 [25:54<00:00,  3.72it/s]\n",
      "\n",
      "Training completed. Do not forget to share your model on huggingface.co/models =)\n",
      "\n",
      "\n",
      "100%|██████████| 4200/4200 [25:54<00:00,  2.70it/s]"
     ]
    },
    {
     "name": "stdout",
     "output_type": "stream",
     "text": [
      "{'eval_loss': 0.426061749458313, 'eval_runtime': 13.6936, 'eval_samples_per_second': 140.212, 'eval_steps_per_second': 4.382, 'epoch': 30.0}\n",
      "{'train_runtime': 1554.6253, 'train_samples_per_second': 86.452, 'train_steps_per_second': 2.702, 'train_loss': 1.266290493919736, 'epoch': 30.0}\n"
     ]
    },
    {
     "name": "stderr",
     "output_type": "stream",
     "text": [
      "\n"
     ]
    },
    {
     "data": {
      "text/plain": [
       "TrainOutput(global_step=4200, training_loss=1.266290493919736, metrics={'train_runtime': 1554.6253, 'train_samples_per_second': 86.452, 'train_steps_per_second': 2.702, 'total_flos': 3.674824954085376e+17, 'train_loss': 1.266290493919736, 'epoch': 30.0})"
      ]
     },
     "execution_count": 12,
     "metadata": {},
     "output_type": "execute_result"
    }
   ],
   "source": [
    "training_args = TrainingArguments(\n",
    "    output_dir='G:\\\\Mi unidad\\\\Archivos_2024\\\\UBA\\\\ESP_IOT\\\\VisionTransformers\\\\TP3\\\\salida_finetuned',\n",
    "    evaluation_strategy=\"epoch\",\n",
    "    learning_rate=1e-5,\n",
    "    per_device_train_batch_size=32,\n",
    "    per_device_eval_batch_size=32,\n",
    "    num_train_epochs=30,\n",
    "    weight_decay=0.01,\n",
    "    logging_dir='G:\\\\Mi unidad\\\\Archivos_2024\\\\UBA\\\\ESP_IOT\\\\VisionTransformers\\\\TP3\\\\logs',\n",
    "    log_level = 'info',\n",
    "    fp16 = True,\n",
    ")\n",
    "\n",
    "def compute_metrics(pred):\n",
    "    labels = pred.label_ids\n",
    "    preds = np.argmax(pred.predictions, axis=1)\n",
    "    accuracy = np.mean(preds == labels)\n",
    "    return {\"accuracy\": accuracy}\n",
    "\n",
    "trainer = Trainer(\n",
    "    model=model,\n",
    "    args=training_args,\n",
    "    train_dataset=train_dataset,\n",
    "    eval_dataset=test_dataset,\n",
    "    #compute_metrics=compute_metrics,\n",
    ")\n",
    "\n",
    "trainer.train()"
   ]
  },
  {
   "cell_type": "code",
   "execution_count": 14,
   "metadata": {},
   "outputs": [
    {
     "name": "stderr",
     "output_type": "stream",
     "text": [
      "\n",
      "***** Running Evaluation *****\n",
      "  Num examples = 1920\n",
      "  Batch size = 32\n",
      "100%|██████████| 60/60 [00:13<00:00,  4.29it/s]"
     ]
    },
    {
     "name": "stdout",
     "output_type": "stream",
     "text": [
      "{'eval_loss': 0.426061749458313, 'eval_runtime': 14.3589, 'eval_samples_per_second': 133.715, 'eval_steps_per_second': 4.179, 'epoch': 30.0}\n"
     ]
    },
    {
     "name": "stderr",
     "output_type": "stream",
     "text": [
      "\n"
     ]
    }
   ],
   "source": [
    "eval_results = trainer.evaluate()\n",
    "print(eval_results)"
   ]
  },
  {
   "cell_type": "code",
   "execution_count": 15,
   "metadata": {},
   "outputs": [],
   "source": [
    "torch.cuda.empty_cache()"
   ]
  },
  {
   "cell_type": "markdown",
   "metadata": {},
   "source": [
    "#### EVALUACION DEL MODELO"
   ]
  },
  {
   "cell_type": "code",
   "execution_count": 16,
   "metadata": {},
   "outputs": [],
   "source": [
    "from torch.utils.data import DataLoader"
   ]
  },
  {
   "cell_type": "code",
   "execution_count": 17,
   "metadata": {},
   "outputs": [
    {
     "name": "stdout",
     "output_type": "stream",
     "text": [
      "Test Accuracy: 90.42%\n"
     ]
    }
   ],
   "source": [
    "test_loader = DataLoader(test_dataset, batch_size=32)\n",
    "\n",
    "# Evaluate the model on test data\n",
    "model.eval()  # Set model to evaluation mode\n",
    "correct = 0\n",
    "total = 0\n",
    "\n",
    "with torch.no_grad():\n",
    "    for batch in test_loader:\n",
    "        pixel_values = batch['pixel_values'].squeeze(1).float()\n",
    "        outputs = model(pixel_values=pixel_values.to('cuda'))  # Forward pass\n",
    "        predictions = torch.argmax(outputs.logits, dim=-1)\n",
    "        correct += (predictions.to('cpu') == batch['label']).sum().item()\n",
    "        total += batch['label'].size(0)\n",
    "\n",
    "accuracy = correct / total\n",
    "print(f\"Test Accuracy: {accuracy * 100:.2f}%\")"
   ]
  },
  {
   "cell_type": "markdown",
   "metadata": {},
   "source": [
    "#### RESULTADOS"
   ]
  },
  {
   "cell_type": "code",
   "execution_count": 20,
   "metadata": {},
   "outputs": [],
   "source": [
    "def inference_prediction(image: torch.Tensor, clear_cache = False) -> torch.Tensor:\n",
    "    with torch.no_grad():\n",
    "        pixel_values = image.squeeze(1).float().unsqueeze(0)\n",
    "        outputs = model(pixel_values=pixel_values.to(device)) \n",
    "        if clear_cache:\n",
    "            torch.cuda.empty_cache() # libera memoria de la cache luego de inferencia\n",
    "        return torch.argmax(outputs.logits, dim=-1)"
   ]
  },
  {
   "cell_type": "code",
   "execution_count": 21,
   "metadata": {},
   "outputs": [
    {
     "data": {
      "text/plain": [
       "torch.Size([256, 256, 3])"
      ]
     },
     "execution_count": 21,
     "metadata": {},
     "output_type": "execute_result"
    }
   ],
   "source": [
    "np.transpose(train_dataset[0]['pixel_values']).shape"
   ]
  },
  {
   "cell_type": "code",
   "execution_count": 22,
   "metadata": {},
   "outputs": [
    {
     "data": {
      "text/plain": [
       "torch.Size([3, 256, 256])"
      ]
     },
     "execution_count": 22,
     "metadata": {},
     "output_type": "execute_result"
    }
   ],
   "source": [
    "train_dataset[0]['pixel_values'].shape"
   ]
  },
  {
   "cell_type": "markdown",
   "metadata": {},
   "source": [
    "##### Se realiza un cambio del orden de los canales para visualizar con imshow"
   ]
  },
  {
   "cell_type": "code",
   "execution_count": null,
   "metadata": {},
   "outputs": [
    {
     "name": "stdout",
     "output_type": "stream",
     "text": [
      "(256, 256, 3)\n"
     ]
    },
    {
     "data": {
      "image/png": "[encoded data removed]",
      "text/plain": [
       "<Figure size 640x480 with 1 Axes>"
      ]
     },
     "metadata": {},
     "output_type": "display_data"
    }
   ],
   "source": [
    "\n",
    "# Display the image\n",
    "\n",
    "idx_data = 10\n",
    "\n",
    "bgr_data = np.transpose(test_dataset[idx_data]['pixel_values'], (2,1,0))\n",
    "bgr_data1 = np.array(bgr_data)\n",
    "print(bgr_data1.shape)\n",
    "\n",
    "plt.imshow(bgr_data1[...,::-1])\n",
    "plt.title(f\"Label: {test_dataset[idx_data]['label']}\")\n",
    "plt.axis('off')  # Hide the axes for clarity\n",
    "plt.show()"
   ]
  },
  {
   "cell_type": "code",
   "execution_count": 24,
   "metadata": {},
   "outputs": [
    {
     "data": {
      "text/plain": [
       "tensor([False], device='cuda:0')"
      ]
     },
     "execution_count": 24,
     "metadata": {},
     "output_type": "execute_result"
    }
   ],
   "source": [
    "inference_prediction(test_dataset[idx_data]['pixel_values']) == test_dataset[idx_data][\"label\"]"
   ]
  },
  {
   "cell_type": "code",
   "execution_count": 25,
   "metadata": {},
   "outputs": [
    {
     "name": "stderr",
     "output_type": "stream",
     "text": [
      "\n",
      "***** Running Prediction *****\n",
      "  Num examples = 1920\n",
      "  Batch size = 32\n",
      "100%|██████████| 60/60 [00:14<00:00,  4.21it/s]\n"
     ]
    }
   ],
   "source": [
    "outputs = trainer.predict(test_dataset)"
   ]
  },
  {
   "cell_type": "code",
   "execution_count": 26,
   "metadata": {},
   "outputs": [
    {
     "data": {
      "text/plain": [
       "{'test_loss': 0.426061749458313,\n",
       " 'test_runtime': 14.9201,\n",
       " 'test_samples_per_second': 128.686,\n",
       " 'test_steps_per_second': 4.021}"
      ]
     },
     "execution_count": 26,
     "metadata": {},
     "output_type": "execute_result"
    }
   ],
   "source": [
    "outputs.metrics"
   ]
  },
  {
   "cell_type": "markdown",
   "metadata": {},
   "source": [
    "#### VISUALIZACIÓN DE LA MATRIZ DE CONFUSION"
   ]
  },
  {
   "cell_type": "code",
   "execution_count": null,
   "metadata": {},
   "outputs": [
    {
     "data": {
      "image/png": "[encoded data removed]",
      "text/plain": [
       "<Figure size 640x480 with 2 Axes>"
      ]
     },
     "metadata": {},
     "output_type": "display_data"
    }
   ],
   "source": [
    "from sklearn.metrics import confusion_matrix, ConfusionMatrixDisplay\n",
    "\n",
    "y_true = outputs.label_ids\n",
    "y_pred = outputs.predictions.argmax(1)\n",
    "\n",
    "labels = train_dataset.features['label'].names\n",
    "cm = confusion_matrix(y_true, np.where(y_pred < 4, y_pred, -1))\n",
    "disp = ConfusionMatrixDisplay(confusion_matrix=cm, display_labels=labels )\n",
    "disp.plot(xticks_rotation=45)\n",
    "plt.show()"
   ]
  },
  {
   "cell_type": "markdown",
   "metadata": {},
   "source": [
    "#### Conclusiones"
   ]
  },
  {
   "cell_type": "markdown",
   "metadata": {},
   "source": [
    "- El uso del modelo MobileViT brinda resultados competitivos con otros modelos como CNN.\n",
    "\n",
    "- Con un accuracy alcanzado de aproximadamente 90% es buena, considerando que es una prueba inicial con un modelo optimizado para su uso con recursos limitados.\n",
    "\n",
    "- El uso del dataset \"USK-COFFE\" se basó en la cantidad de datos adecuados para un primer análisis y por su similitud ocn trabajos futuros.\n",
    "\n",
    "- La selección del modelo se basa la novedad que representa combinar CNN y ViT para el uso optimizado en dispositivos móviles.\n"
   ]
  },
  {
   "cell_type": "markdown",
   "metadata": {},
   "source": [
    "https://machinelearning.apple.com/research/vision-transformer"
   ]
  },
  {
   "cell_type": "markdown",
   "metadata": {},
   "source": []
  }
 ],
 "metadata": {
  "kernelspec": {
   "display_name": "venvi_pytorch118",
   "language": "python",
   "name": "python3"
  },
  "language_info": {
   "codemirror_mode": {
    "name": "ipython",
    "version": 3
   },
   "file_extension": ".py",
   "mimetype": "text/x-python",
   "name": "python",
   "nbconvert_exporter": "python",
   "pygments_lexer": "ipython3",
   "version": "3.9.13"
  }
 },
 "nbformat": 4,
 "nbformat_minor": 2
}
